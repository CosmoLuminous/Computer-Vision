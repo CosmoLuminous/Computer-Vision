{
 "cells": [
  {
   "cell_type": "code",
   "execution_count": 2,
   "metadata": {},
   "outputs": [],
   "source": [
    "import cv2 as cv\n",
    "import os\n",
    "from IPython.core.display import Image, display\n",
    "from glob import glob\n",
    "from tqdm import tqdm\n",
    "import numpy as np\n",
    "import matplotlib.pyplot as plt"
   ]
  },
  {
   "cell_type": "code",
   "execution_count": 1,
   "metadata": {},
   "outputs": [],
   "source": [
    "def convert_grayscale(img):\n",
    "    '''Convert To Grayscale'''\n",
    "    return cv.cvtColor(img, cv.COLOR_BGR2GRAY)\n",
    "\n",
    "def brightness_equalize(img):\n",
    "        '''\n",
    "        Brightness correction by histogram equalization.\n",
    "        '''\n",
    "        img_yuv = cv.cvtColor(img, cv.COLOR_BGR2YUV)\n",
    "        img_yuv[:,:,0] = cv.equalizeHist(img_yuv[:,:,0])\n",
    "        img_output = cv.cvtColor(img_yuv, cv.COLOR_YUV2BGR)\n",
    "        return img_output\n",
    "\n",
    "def apply_clahe(img, limit=1.2, grid=(8,8)):\n",
    "    '''\n",
    "    CLAHE:\n",
    "    Histogram Equalization and Contrast enhancement\n",
    "    '''    \n",
    "    img_yuv = cv.cvtColor(img, cv.COLOR_BGR2YUV)\n",
    "\n",
    "    clahe = cv.createCLAHE(clipLimit=limit, tileGridSize=grid)\n",
    "    img_yuv[:,:,0] = clahe.apply(img_yuv[:,:,0])    \n",
    "    img_output = cv.cvtColor(img_yuv, cv.COLOR_YUV2BGR)        \n",
    "    img_output = cv.normalize(img_output, None, 0, 255, cv.NORM_MINMAX)\n",
    "\n",
    "    return img_output\n",
    "\n",
    "def save_img(img, name):\n",
    "    '''Save Img'''\n",
    "    path = os.path.join(f\"./Data/ht33_minimal/\",name+\".png\")\n",
    "    #print(\"saving img: %s.png\"%name)\n",
    "    cv.imwrite(path,img)\n",
    "    return\n",
    "\n",
    "def img_thresholding(img, th=60, color=255):\n",
    "    '''\n",
    "    Image Thresholding:\n",
    "    Returns Inverse Binary Threshold.\n",
    "    '''\n",
    "\n",
    "    _, th_img = cv.threshold(img,th,color,cv.THRESH_BINARY_INV)\n",
    "\n",
    "    return th_img\n",
    "\n",
    "def show_image(img, title='Default', save=False):\n",
    "    '''Display and save image'''\n",
    "    if img is None:\n",
    "        print('Could not find image to show.')\n",
    "    else:        \n",
    "        print(\"\\n\\n%%%% IMAGE: {}, SHAPE: {} %%%%\".format(title, img.shape))\n",
    "        fig = plt.figure(0)\n",
    "        plt.imshow(img, cmap='gray')\n",
    "        plt.show()\n",
    "        if save:\n",
    "            fig.savefig(\"plots/\"+title+\".png\", dpi=300, format=\"png\")        \n",
    "    return\n",
    "\n",
    "def find_contours(img):\n",
    "    '''\n",
    "    Find all the contours in an image.\n",
    "    Returns: List and Hierarchy of all the contours detected\n",
    "    '''\n",
    "    hierarchy, contours = cv.findContours(img, cv.RETR_CCOMP, cv.CHAIN_APPROX_NONE)\n",
    "\n",
    "    return hierarchy, contours\n",
    "\n",
    "def draw_contour(mask_ctr, height=1080, width=1920):\n",
    "    '''\n",
    "    Draw and fill the contour on the canvas as the same size of the image (H,W)\n",
    "    '''\n",
    "    canvas = np.zeros((height, width), dtype=np.uint8)\n",
    "    if not mask_ctr is None:\n",
    "        cv.drawContours(canvas, mask_ctr, -1, (255,255,255), -1)\n",
    "\n",
    "    return canvas\n",
    "def hconcat_images(image_list):\n",
    "    '''Concat images horizontally'''\n",
    "    return cv.hconcat(image_list)\n",
    "\n",
    "def dilate_img(img, window_size = 5, iter = 2):\n",
    "    '''\n",
    "    MORPHOLOGICAL OPERATION: DILATION\n",
    "    '''\n",
    "    kernel = cv.getStructuringElement(cv.MORPH_RECT,(5,5))    \n",
    "    dilated_img = cv.dilate(img, kernel, iterations = iter)\n",
    "\n",
    "    return dilated_img\n",
    "\n",
    "def remove_watermark(image, mask):\n",
    "    dst = cv.inpaint(image, mask, 10, cv.INPAINT_NS)\n",
    "    return dst\n",
    "\n",
    "def preproc(img, name, mask):\n",
    "    #img = remove_watermark(img, mask)\n",
    "    img = apply_clahe(img)\n",
    "    save_img(img, name)"
   ]
  },
  {
   "cell_type": "code",
   "execution_count": 7,
   "metadata": {},
   "outputs": [
    {
     "name": "stderr",
     "output_type": "stream",
     "text": [
      "100%|██████████| 43/43 [00:51<00:00,  1.20s/it]\n"
     ]
    }
   ],
   "source": [
    "pth= f\"./Data/ht32_minimal/\"\n",
    "img_list = glob(os.path.join(pth, \"*\"))\n",
    "mask = cv.imread(\"./wmmask.jpg\",cv.IMREAD_GRAYSCALE)\n",
    "mask_dilate = dilate_img(mask, iter=3)\n",
    "for i in tqdm(img_list):\n",
    "    image = cv.imread(i)\n",
    "    name = i.split(\"/\")[-1].split(\".\")[0]\n",
    "    preproc(image, name, mask_dilate)"
   ]
  },
  {
   "cell_type": "code",
   "execution_count": 54,
   "metadata": {},
   "outputs": [
    {
     "name": "stdout",
     "output_type": "stream",
     "text": [
      "\n",
      "\n",
      "%%%% IMAGE: Default, SHAPE: (1080, 1920) %%%%\n"
     ]
    },
    {
     "data": {
      "image/png": "[encoded data removed]",
      "text/plain": [
       "<Figure size 432x288 with 1 Axes>"
      ]
     },
     "metadata": {
      "needs_background": "light"
     },
     "output_type": "display_data"
    },
    {
     "data": {
      "text/plain": [
       "True"
      ]
     },
     "execution_count": 54,
     "metadata": {},
     "output_type": "execute_result"
    }
   ],
   "source": [
    "wmark = cv.imread('./watermark.jpg')\n",
    "wmark_gray = convert_grayscale(wmark)\n",
    "th = img_thresholding(wmark_gray, th=165)\n",
    "th = 255-th\n",
    "show_image(th)\n",
    "#cv.imwrite(\"wmmask.jpg\", th)"
   ]
  },
  {
   "cell_type": "code",
   "execution_count": null,
   "metadata": {},
   "outputs": [],
   "source": [
    "pth= f\"./Data/ht3/\"\n",
    "img_list = glob(os.path.join(pth, \"*.jpg\"))\n",
    "i1 = img_list[0]\n",
    "i1 = cv.imread(i1)\n",
    "frames = list()\n",
    "for i in tqdm(img_list[1:]):\n",
    "    img = cv.imread(i)\n",
    "    #i1 = cv.add(i1, img)\n",
    "    frames.append(img.astype(np.float16))\n",
    "medianFrame = np.median(frames, axis=0).astype(dtype=np.uint8) \n",
    "cv.imwrite(\"watermark.jpg\", medianFrame)"
   ]
  },
  {
   "cell_type": "code",
   "execution_count": null,
   "metadata": {},
   "outputs": [],
   "source": []
  },
  {
   "cell_type": "code",
   "execution_count": null,
   "metadata": {},
   "outputs": [],
   "source": []
  }
 ],
 "metadata": {
  "kernelspec": {
   "display_name": "Python 3",
   "language": "python",
   "name": "python3"
  },
  "language_info": {
   "codemirror_mode": {
    "name": "ipython",
    "version": 3
   },
   "file_extension": ".py",
   "mimetype": "text/x-python",
   "name": "python",
   "nbconvert_exporter": "python",
   "pygments_lexer": "ipython3",
   "version": "3.7.9"
  }
 },
 "nbformat": 4,
 "nbformat_minor": 4
}
