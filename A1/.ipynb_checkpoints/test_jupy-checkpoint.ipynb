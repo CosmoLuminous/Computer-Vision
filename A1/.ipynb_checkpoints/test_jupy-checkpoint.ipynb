{
 "cells": [
  {
   "cell_type": "code",
   "execution_count": 1,
   "metadata": {},
   "outputs": [
    {
     "name": "stdout",
     "output_type": "stream",
     "text": [
      "Total # images to process = 10\n",
      "Reading Image: img\\0000.jpg\n",
      "(844, 1181, 3)\n"
     ]
    }
   ],
   "source": [
    "import os\n",
    "import cv2 as cv\n",
    "import json\n",
    "from glob import glob\n",
    "import numpy as np\n",
    "import argparse\n",
    "import matplotlib.pyplot as plt\n",
    "\n",
    "def generate_mask(img):\n",
    "    print(\"Reading Image:\", img)\n",
    "    image = cv.imread(img)\n",
    "    print(image.shape)\n",
    "    '''plt.imshow(image)\n",
    "    plt.show()'''\n",
    "    cv.imshow('image', image)\n",
    "    cv.waitKey(0)\n",
    "    cv.destroyAllWindows()\n",
    "\n",
    "\n",
    "if __name__ == \"__main__\":\n",
    "   \n",
    "    \n",
    "    img_path = \"img\"\n",
    "    \n",
    "    images = glob(os.path.join(img_path,\"*.jpg\"))\n",
    "\n",
    "    print(\"Total # images to process =\", len(images))\n",
    "\n",
    "    #for img in images:\n",
    "    generate_mask(images[0])"
   ]
  },
  {
   "cell_type": "code",
   "execution_count": null,
   "metadata": {},
   "outputs": [],
   "source": [
    "conda install -c anaconda opencv"
   ]
  },
  {
   "cell_type": "code",
   "execution_count": null,
   "metadata": {},
   "outputs": [],
   "source": []
  }
 ],
 "metadata": {
  "kernelspec": {
   "display_name": "Python 3",
   "language": "python",
   "name": "python3"
  },
  "language_info": {
   "codemirror_mode": {
    "name": "ipython",
    "version": 3
   },
   "file_extension": ".py",
   "mimetype": "text/x-python",
   "name": "python",
   "nbconvert_exporter": "python",
   "pygments_lexer": "ipython3",
   "version": "3.7.4"
  }
 },
 "nbformat": 4,
 "nbformat_minor": 2
}
